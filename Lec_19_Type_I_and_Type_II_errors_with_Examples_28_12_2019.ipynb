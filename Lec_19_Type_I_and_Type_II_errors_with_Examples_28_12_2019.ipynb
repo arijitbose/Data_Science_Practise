{
 "cells": [
  {
   "cell_type": "markdown",
   "metadata": {},
   "source": [
    "# Type 1 error is nothing but rejection of H0(null Hypothesis) even though\n",
    "# it is true.The function alpha for type one error is included.\n"
   ]
  },
  {
   "cell_type": "code",
   "execution_count": 66,
   "metadata": {},
   "outputs": [],
   "source": [
    "def z_value(x,mu,sigma):\n",
    "    z=(x-mu)/sigma\n",
    "    if(z<0):\n",
    "        alpha=norm.cdf(z)\n",
    "    else:\n",
    "        alpha=1-norm.cdf(z)\n",
    "    return alpha*2 "
   ]
  },
  {
   "cell_type": "markdown",
   "metadata": {},
   "source": [
    "# Type 2 error is nothing but acceptance of H0(null Hypothesis) even though\n",
    "# it is not true.(False Acceptance)"
   ]
  },
  {
   "cell_type": "code",
   "execution_count": 67,
   "metadata": {},
   "outputs": [
    {
     "data": {
      "image/png": "[encoded data removed]",
      "text/plain": [
       "<Figure size 432x288 with 1 Axes>"
      ]
     },
     "metadata": {
      "needs_background": "light"
     },
     "output_type": "display_data"
    }
   ],
   "source": [
    "import numpy as np\n",
    "from scipy.stats import norm\n",
    "import matplotlib.pyplot as plt\n",
    "%matplotlib inline\n",
    "x_axis = np.arange(47, 54, 0.00001)\n",
    "# Mean = 0, SD = 2.\n",
    "plt.plot(x_axis, norm.pdf(x_axis,50,0.7905694150420948))\n",
    "plt.plot(x_axis, norm.pdf(x_axis,52,0.7905694150420948))\n",
    "xcoords = [48.5, 50, 52.5]\n",
    "# colors for the lines\n",
    "colors = ['r','k','y']\n",
    "\n",
    "for xc,c in zip(xcoords,colors):\n",
    "    plt.axvline(x=xc, label='line at x = {}'.format(xc), c=c)\n",
    "    plt.axvspan(51.5, 54, alpha=0.5, color='red')\n",
    "    plt.axvspan(50, 51.5, alpha=0.5, color='blue')\n",
    "    #plt.axvspan(48.5,52.5,alpha=0.5, color='green')\n",
    "    \n",
    "    \n",
    "    \n",
    "plt.plot(x_axis, norm.pdf(x_axis,50,0.7905694150420948),color='yellow')\n",
    "\n",
    "plt.show()"
   ]
  },
  {
   "cell_type": "markdown",
   "metadata": {},
   "source": [
    "# H0:mu=8.3\n",
    "# H1:mu<8.3\n",
    "# Determine the probability of Type II error if mu=7.4 at 5% alpha,sigma=3.1 and n=60\n"
   ]
  },
  {
   "cell_type": "code",
   "execution_count": 68,
   "metadata": {},
   "outputs": [],
   "source": [
    "from scipy.stats import norm\n",
    "import numpy as np\n",
    "def type_2(mu1,mu2,sigma,n,alpha):\n",
    "    z=norm.ppf(alpha)\n",
    "    xbar= (mu1)+(z*sigma/np.sqrt(n))\n",
    "    z2=(xbar-mu2)/(sigma/np.sqrt(n))\n",
    "    if(mu1>mu2):\n",
    "        beta=1-norm.cdf(z2)        \n",
    "    else:\n",
    "        beta=norm.cdf(z2)\n",
    "    print(beta)\n",
    "    \n",
    "        \n",
    "        \n",
    "        \n",
    "        \n",
    "        "
   ]
  },
  {
   "cell_type": "code",
   "execution_count": 69,
   "metadata": {},
   "outputs": [],
   "source": [
    "mu1=8.3\n",
    "mu2=7.4\n",
    "sigma=3.1\n",
    "n=60\n",
    "alpha=0.05"
   ]
  },
  {
   "cell_type": "code",
   "execution_count": 70,
   "metadata": {},
   "outputs": [
    {
     "name": "stdout",
     "output_type": "stream",
     "text": [
      "0.27292999450730004\n"
     ]
    }
   ],
   "source": [
    "type_2(mu1,mu2,sigma,n,alpha)"
   ]
  },
  {
   "cell_type": "code",
   "execution_count": 71,
   "metadata": {},
   "outputs": [],
   "source": [
    "def z_value(x,mu,sigma):\n",
    "    z=(x-mu)/sigma\n",
    "    if(z<0):\n",
    "        alpha=norm.cdf(z)\n",
    "    else:\n",
    "        alpha=1-norm.cdf(z)\n",
    "    return alpha"
   ]
  },
  {
   "cell_type": "code",
   "execution_count": 72,
   "metadata": {},
   "outputs": [],
   "source": [
    "#Problem no 17, Pg 377, Ronald\n",
    "#H0: mu=5000\n",
    "#H1: mu<5000\n",
    "#sigma =120 kilograms\n",
    "# n=50\n",
    "# critical region xbar<4970\n",
    "n=50 # number of samples\n",
    "#lower_limit=4970\n",
    "sigma= 120/np.sqrt(n) # sigma of population\n",
    "x=4970\n",
    "mu=5000\n"
   ]
  },
  {
   "cell_type": "code",
   "execution_count": 73,
   "metadata": {},
   "outputs": [
    {
     "data": {
      "text/plain": [
       "0.03854993587177085"
      ]
     },
     "execution_count": 73,
     "metadata": {},
     "output_type": "execute_result"
    }
   ],
   "source": [
    "z_value(x,mu,sigma)\n"
   ]
  },
  {
   "cell_type": "code",
   "execution_count": 74,
   "metadata": {},
   "outputs": [
    {
     "data": {
      "text/plain": [
       "16.97056274847714"
      ]
     },
     "execution_count": 74,
     "metadata": {},
     "output_type": "execute_result"
    }
   ],
   "source": [
    "sigma"
   ]
  },
  {
   "cell_type": "code",
   "execution_count": 84,
   "metadata": {},
   "outputs": [],
   "source": [
    "mu1=5000\n",
    "mu2=4960\n",
    "sigma=16.97056274847714\n",
    "n=50\n"
   ]
  },
  {
   "cell_type": "code",
   "execution_count": 89,
   "metadata": {},
   "outputs": [
    {
     "data": {
      "text/plain": [
       "0.03854993587177085"
      ]
     },
     "execution_count": 89,
     "metadata": {},
     "output_type": "execute_result"
    }
   ],
   "source": [
    "z=(x-mu)/sigma\n",
    "alpha=norm.cdf(z)\n",
    "alpha"
   ]
  },
  {
   "cell_type": "code",
   "execution_count": 126,
   "metadata": {},
   "outputs": [
    {
     "data": {
      "text/plain": [
       "0.5"
      ]
     },
     "execution_count": 126,
     "metadata": {},
     "output_type": "execute_result"
    }
   ],
   "source": [
    "#17b,mu=4970\n",
    "beta=norm.cdf((4970-4970)/16.97056274847714)\n",
    "beta"
   ]
  },
  {
   "cell_type": "code",
   "execution_count": 127,
   "metadata": {},
   "outputs": [
    {
     "data": {
      "text/plain": [
       "0.2778448951413973"
      ]
     },
     "execution_count": 127,
     "metadata": {},
     "output_type": "execute_result"
    }
   ],
   "source": [
    "#17b,mu=4960\n",
    "beta=norm.cdf((4960-4970)/16.97056274847714)\n",
    "beta"
   ]
  },
  {
   "cell_type": "code",
   "execution_count": null,
   "metadata": {},
   "outputs": [],
   "source": []
  },
  {
   "cell_type": "code",
   "execution_count": 92,
   "metadata": {},
   "outputs": [],
   "source": [
    "#15 a\n",
    "sigma=15/np.sqrt(9)\n",
    "mu=200\n",
    "x=209"
   ]
  },
  {
   "cell_type": "code",
   "execution_count": 108,
   "metadata": {},
   "outputs": [],
   "source": [
    "    # Solution Problem 15a\n",
    "    def z_value(x,mu,sigma):\n",
    "        z=(x-mu)/sigma\n",
    "        if(z<0):\n",
    "            alpha=norm.cdf(z)\n",
    "        else:\n",
    "            alpha=1-norm.cdf(z)\n",
    "        return alpha*2"
   ]
  },
  {
   "cell_type": "code",
   "execution_count": 109,
   "metadata": {},
   "outputs": [
    {
     "data": {
      "text/plain": [
       "0.07186063822585154"
      ]
     },
     "execution_count": 109,
     "metadata": {},
     "output_type": "execute_result"
    }
   ],
   "source": [
    "# Solution Problem 15a\n",
    "z_value(x,mu,sigma)"
   ]
  },
  {
   "cell_type": "code",
   "execution_count": 125,
   "metadata": {},
   "outputs": [
    {
     "data": {
      "text/plain": [
       "0.11506967022170822"
      ]
     },
     "execution_count": 125,
     "metadata": {},
     "output_type": "execute_result"
    }
   ],
   "source": [
    "# Solution Problem 15b\n",
    "beta=norm.cdf((209-215)/5)\n",
    "beta"
   ]
  },
  {
   "cell_type": "markdown",
   "metadata": {},
   "source": [
    "# Hypothesis test for Population Proportion\n",
    "# The equality part of Hypotheses always appears in the null Hypothesis\n",
    "# there are three types , lower tail,upper tail and two tailed tests"
   ]
  },
  {
   "cell_type": "markdown",
   "metadata": {},
   "source": [
    "# Test statistic\n",
    "# z=(pbar-p0)/sigmaphat\n",
    "# sigmaphat=(pnot*(1-pnot)/n)**(0.5)\n",
    "# assuming n*p>=5\n",
    "\n",
    "\n"
   ]
  },
  {
   "cell_type": "code",
   "execution_count": 13,
   "metadata": {
    "scrolled": true
   },
   "outputs": [
    {
     "data": {
      "text/plain": [
       "0.08502504994899995"
      ]
     },
     "execution_count": 13,
     "metadata": {},
     "output_type": "execute_result"
    }
   ],
   "source": [
    "#Ex 9a Page 377 Ronald\n",
    "from scipy.stats import binom\n",
    "from scipy.stats import norm\n",
    "import numpy as np\n",
    "\n",
    "alpha=(1-binom.cdf(k=10,n=12,p=0.7))\n",
    "alpha"
   ]
  },
  {
   "cell_type": "code",
   "execution_count": 20,
   "metadata": {},
   "outputs": [
    {
     "data": {
      "text/plain": [
       "0.3409977482109998"
      ]
     },
     "execution_count": 20,
     "metadata": {},
     "output_type": "execute_result"
    }
   ],
   "source": [
    "#Ex b\n",
    "beta=(binom.cdf(k=10,n=12,p=0.9))\n",
    "beta"
   ]
  },
  {
   "cell_type": "markdown",
   "metadata": {},
   "source": [
    "#  Now onwards this notebook consists of problems from Johnson"
   ]
  },
  {
   "cell_type": "code",
   "execution_count": 21,
   "metadata": {},
   "outputs": [],
   "source": [
    "#Pg 228 7.41\n",
    "#7.41a,b,c\n",
    "#H0: mu=56 minutes\n",
    "#Ha: mu!=56 minutes\n",
    "#True mean=50 minutes, then type of error is alpha(Type I)\n",
    "#True mean=56 minutes, then type of error is beta(Type II)\n"
   ]
  },
  {
   "cell_type": "code",
   "execution_count": null,
   "metadata": {},
   "outputs": [],
   "source": [
    "#7.43a\n"
   ]
  },
  {
   "cell_type": "code",
   "execution_count": null,
   "metadata": {},
   "outputs": [],
   "source": []
  },
  {
   "cell_type": "code",
   "execution_count": null,
   "metadata": {},
   "outputs": [],
   "source": []
  }
 ],
 "metadata": {
  "kernelspec": {
   "display_name": "Python 3",
   "language": "python",
   "name": "python3"
  },
  "language_info": {
   "codemirror_mode": {
    "name": "ipython",
    "version": 3
   },
   "file_extension": ".py",
   "mimetype": "text/x-python",
   "name": "python",
   "nbconvert_exporter": "python",
   "pygments_lexer": "ipython3",
   "version": "3.8.3"
  }
 },
 "nbformat": 4,
 "nbformat_minor": 2
}
