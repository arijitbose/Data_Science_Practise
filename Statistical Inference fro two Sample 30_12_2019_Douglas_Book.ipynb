{
 "cells": [
  {
   "cell_type": "markdown",
   "metadata": {},
   "source": [
    "# Chapter 10"
   ]
  },
  {
   "cell_type": "code",
   "execution_count": 1,
   "metadata": {},
   "outputs": [],
   "source": [
    "#Exercise: Section 10-1 "
   ]
  },
  {
   "cell_type": "code",
   "execution_count": 21,
   "metadata": {},
   "outputs": [],
   "source": [
    "#10_1\n",
    "import pandas as pd\n",
    "import numpy as np\n",
    "import math\n",
    "from scipy import stats"
   ]
  },
  {
   "cell_type": "code",
   "execution_count": 253,
   "metadata": {},
   "outputs": [],
   "source": [
    "def Z_and_p(x1,x2,sigma1,sigma2,n1,n2):\n",
    "    z=(x1-x2)/math.sqrt(((sigma1**2)/n1)+((sigma2**2)/n2))\n",
    "    if(z<0):\n",
    "        p=stats.norm.cdf(z)\n",
    "    else:\n",
    "        p=1-stats.norm.cdf(z)\n",
    "    print(z,p)\n",
    "        "
   ]
  },
  {
   "cell_type": "code",
   "execution_count": 26,
   "metadata": {},
   "outputs": [
    {
     "name": "stdout",
     "output_type": "stream",
     "text": [
      "-0.9075870678421358 0.3640964293652712\n"
     ]
    }
   ],
   "source": [
    " Z_and_p(4.7,7.8,10,5,10,15)"
   ]
  },
  {
   "cell_type": "code",
   "execution_count": 40,
   "metadata": {},
   "outputs": [
    {
     "data": {
      "text/plain": [
       "1.9599639845400545"
      ]
     },
     "execution_count": 40,
     "metadata": {},
     "output_type": "execute_result"
    }
   ],
   "source": [
    "# alpha=0.05\n",
    "alphabytwo=0.025\n",
    "zalphabytwo=abs(stats.norm.ppf(0.025))\n",
    "zalphabytwo\n",
    "#Therefore foran alphabytwo of 0.025, corresponding zalphabytwo is -1.9599639845400545 and our calculated Z\n",
    "# lies between -1.96 and +1.96,therefore donot reject H0, =>mu1=m2"
   ]
  },
  {
   "cell_type": "code",
   "execution_count": 42,
   "metadata": {},
   "outputs": [
    {
     "data": {
      "text/plain": [
       "-9.79455148421198"
      ]
     },
     "execution_count": 42,
     "metadata": {},
     "output_type": "execute_result"
    }
   ],
   "source": [
    "# Limits of mu1-mu2\n",
    "lower_limit_CI=x1-x2-zalphabytwo*(math.sqrt(((sigma1**2)/n1)+((sigma2**2)/n2)))\n",
    "upper_limit_CI=x1-x2+zalphabytwo*(math.sqrt(((sigma1**2)/n1)+((sigma2**2)/n2)))\n",
    "upper_limit_CI\n",
    "lower_limit_CI"
   ]
  },
  {
   "cell_type": "code",
   "execution_count": null,
   "metadata": {},
   "outputs": [],
   "source": []
  },
  {
   "cell_type": "code",
   "execution_count": 95,
   "metadata": {},
   "outputs": [],
   "source": [
    "#mu1-mu2=3\n",
    "#Power of the test=1-beta\n",
    "\n",
    "\n"
   ]
  },
  {
   "cell_type": "code",
   "execution_count": 90,
   "metadata": {},
   "outputs": [],
   "source": [
    "sigma1=10\n",
    "sigma2=5\n",
    "n1=10\n",
    "n2=15"
   ]
  },
  {
   "cell_type": "code",
   "execution_count": 97,
   "metadata": {},
   "outputs": [
    {
     "data": {
      "text/plain": [
       "0.8691857627919426"
      ]
     },
     "execution_count": 97,
     "metadata": {},
     "output_type": "execute_result"
    }
   ],
   "source": [
    "a =stats.norm.cdf(zalphabytwo-((2.9)/(math.sqrt(((sigma1**2)/n1)+((sigma2**2)/n2)))))\n",
    "b =stats.norm.cdf((-1)*zalphabytwo-((2.9)/(math.sqrt(((sigma1**2)/n1)+((sigma2**2)/n2)))))\n",
    "power=1-a-b\n",
    "1-power"
   ]
  },
  {
   "cell_type": "code",
   "execution_count": 149,
   "metadata": {},
   "outputs": [
    {
     "data": {
      "text/plain": [
       "1.9599639845400545"
      ]
     },
     "execution_count": 149,
     "metadata": {},
     "output_type": "execute_result"
    }
   ],
   "source": [
    "zalpha=abs(((stats.norm.ppf(0.025))))\n",
    "zalpha"
   ]
  },
  {
   "cell_type": "code",
   "execution_count": 152,
   "metadata": {},
   "outputs": [
    {
     "data": {
      "text/plain": [
       "0.122550438809786"
      ]
     },
     "execution_count": 152,
     "metadata": {},
     "output_type": "execute_result"
    }
   ],
   "source": [
    "Zbeta=abs(1-(stats.norm.ppf(0.8691857627919426)))\n",
    "Zbeta"
   ]
  },
  {
   "cell_type": "code",
   "execution_count": 153,
   "metadata": {},
   "outputs": [
    {
     "data": {
      "text/plain": [
       "64.45996319054872"
      ]
     },
     "execution_count": 153,
     "metadata": {},
     "output_type": "execute_result"
    }
   ],
   "source": [
    "ans=(125*((Zbeta+zalpha)**2))/((2.9)**2)\n",
    "ans"
   ]
  },
  {
   "cell_type": "code",
   "execution_count": 171,
   "metadata": {},
   "outputs": [
    {
     "name": "stdout",
     "output_type": "stream",
     "text": [
      "0.9368640700305917 0.1744142416136465\n"
     ]
    }
   ],
   "source": [
    "#ex-10-3\n",
    "Z_and_p(24.5,21.3,10,5,10,15)"
   ]
  },
  {
   "cell_type": "code",
   "execution_count": 163,
   "metadata": {},
   "outputs": [
    {
     "data": {
      "text/plain": [
       "2.3263478740408408"
      ]
     },
     "execution_count": 163,
     "metadata": {},
     "output_type": "execute_result"
    }
   ],
   "source": [
    "# alpha=0.01\n",
    "\n",
    "zalpha=abs(stats.norm.ppf(0.01))\n",
    "zalpha\n",
    "#Therefore for a alpha of 0.01, corresponding zalpha is 2.575829303548901 and our calculated Z\n",
    "# lies between -2.575829303548901 and +2.575829303548901,therefore donot reject H0, =>mu1=m2"
   ]
  },
  {
   "cell_type": "code",
   "execution_count": 172,
   "metadata": {},
   "outputs": [],
   "source": [
    "x1=24.5\n",
    "x2=21.3\n",
    "sigma1=10\n",
    "sigma2=5\n",
    "n1=10\n",
    "n2=15"
   ]
  },
  {
   "cell_type": "code",
   "execution_count": 173,
   "metadata": {},
   "outputs": [
    {
     "data": {
      "text/plain": [
       "-4.7459907099304255"
      ]
     },
     "execution_count": 173,
     "metadata": {},
     "output_type": "execute_result"
    }
   ],
   "source": [
    "lower_limit_CI=x1-x2-zalphabytwo*(math.sqrt(((sigma1**2)/n1)+((sigma2**2)/n2)))\n",
    "upper_limit_CI=x1-x2+zalphabytwo*(math.sqrt(((sigma1**2)/n1)+((sigma2**2)/n2)))\n",
    "upper_limit_CI\n",
    "lower_limit_CI"
   ]
  },
  {
   "cell_type": "code",
   "execution_count": 176,
   "metadata": {},
   "outputs": [
    {
     "data": {
      "text/plain": [
       "0.03906237689538271"
      ]
     },
     "execution_count": 176,
     "metadata": {},
     "output_type": "execute_result"
    }
   ],
   "source": [
    "a =stats.norm.cdf(zalpha-((2)/(math.sqrt(((sigma1**2)/n1)+((sigma2**2)/n2)))))\n",
    "b =stats.norm.cdf((-1)*zalpha-((2)/(math.sqrt(((sigma1**2)/n1)+((sigma2**2)/n2)))))\n",
    "power=1-a-b\n",
    "power\n"
   ]
  },
  {
   "cell_type": "code",
   "execution_count": 183,
   "metadata": {},
   "outputs": [
    {
     "name": "stdout",
     "output_type": "stream",
     "text": [
      "-5.838742081211422 2.629820907984267e-09\n"
     ]
    }
   ],
   "source": [
    "#Ex10-5\n",
    "Z_and_p(162.5,155,1,1,10,12)"
   ]
  },
  {
   "cell_type": "code",
   "execution_count": 275,
   "metadata": {},
   "outputs": [
    {
     "data": {
      "text/plain": [
       "1.6448536269514729"
      ]
     },
     "execution_count": 275,
     "metadata": {},
     "output_type": "execute_result"
    }
   ],
   "source": [
    "zalpha=abs(stats.norm.ppf(0.05))\n",
    "zalpha"
   ]
  },
  {
   "cell_type": "code",
   "execution_count": 227,
   "metadata": {},
   "outputs": [],
   "source": [
    "#Ex10-9\n",
    "sigma1=sigma2=3\n",
    "n1=n2=10\n",
    "#zalpha=abs(stats.norm.ppf(0.05))\n",
    "zalpha=1.645"
   ]
  },
  {
   "cell_type": "code",
   "execution_count": 234,
   "metadata": {},
   "outputs": [
    {
     "data": {
      "text/plain": [
       "1.9599639845400545"
      ]
     },
     "execution_count": 234,
     "metadata": {},
     "output_type": "execute_result"
    }
   ],
   "source": [
    "zalphabytwo=abs(stats.norm.ppf(0.025))\n",
    "zalphabytwo"
   ]
  },
  {
   "cell_type": "code",
   "execution_count": 228,
   "metadata": {},
   "outputs": [],
   "source": [
    "a=[57.9,66.2,65.4,65.4,65.2,62.6,67.6,63.7,67.2,71.0]\n",
    "b=[66.4,71.7,70.3,69.3,64.8,69.6,68.6,69.4,65.3,68.8]\n",
    "#x1=np.mean(a)\n",
    "#x2=np.mean(b)\n",
    "x1=65.22\n",
    "x2=68.4"
   ]
  },
  {
   "cell_type": "code",
   "execution_count": 272,
   "metadata": {},
   "outputs": [
    {
     "data": {
      "text/plain": [
       "(-5.809567621729752, -0.5504323782702616)"
      ]
     },
     "execution_count": 272,
     "metadata": {},
     "output_type": "execute_result"
    }
   ],
   "source": [
    "lower_limit_CI=(-68.4+65.22)-zalphabytwo*(math.sqrt(((sigma1**2)/n1)+((sigma2**2)/n2)))\n",
    "upper_limit_CI=(-68.4+65.22)+zalphabytwo*(math.sqrt(((sigma1**2)/n1)+((sigma2**2)/n2)))\n",
    "lower_limit_CI,upper_limit_CI\n",
    "\n"
   ]
  },
  {
   "cell_type": "code",
   "execution_count": 270,
   "metadata": {},
   "outputs": [
    {
     "name": "stdout",
     "output_type": "stream",
     "text": [
      "-2.3702320561497823 0.008888461921214334\n"
     ]
    }
   ],
   "source": [
    " Z_and_p(65.22,68.4,3,3,10,10)"
   ]
  },
  {
   "cell_type": "code",
   "execution_count": 265,
   "metadata": {},
   "outputs": [],
   "source": [
    "def Z_and_p(x1,x2,sigma1,sigma2,n1,n2):\n",
    "    z=(x1-x2)/math.sqrt(((sigma1**2)/n1)+((sigma2**2)/n2))\n",
    "    if(z<0):\n",
    "        p=stats.norm.cdf(z)\n",
    "    else:\n",
    "        p=1-stats.norm.cdf(z)\n",
    "    print(z,p)\n",
    "        "
   ]
  },
  {
   "cell_type": "code",
   "execution_count": 266,
   "metadata": {},
   "outputs": [
    {
     "name": "stdout",
     "output_type": "stream",
     "text": [
      "-2.3702320561497823 0.008888461921214334\n"
     ]
    }
   ],
   "source": [
    "Z_and_p(65.22,68.4,3,3,10,10)"
   ]
  },
  {
   "cell_type": "code",
   "execution_count": 276,
   "metadata": {},
   "outputs": [
    {
     "data": {
      "text/plain": [
       "0.9613704675498077"
      ]
     },
     "execution_count": 276,
     "metadata": {},
     "output_type": "execute_result"
    }
   ],
   "source": [
    "a =stats.norm.cdf(zalphabytwo-((5)/(math.sqrt(((sigma1**2)/n1)+((sigma2**2)/n2)))))\n",
    "b =stats.norm.cdf((-1)*zalphabytwo-((5)/(math.sqrt(((sigma1**2)/n1)+((sigma2**2)/n2)))))\n",
    "power=1-a-b\n",
    "power"
   ]
  },
  {
   "cell_type": "code",
   "execution_count": 278,
   "metadata": {},
   "outputs": [
    {
     "name": "stdout",
     "output_type": "stream",
     "text": [
      "-4.715864951351156 1.203430240576565e-06\n"
     ]
    }
   ],
   "source": [
    "Z_and_p(190,310,15,50,10,4)"
   ]
  },
  {
   "cell_type": "code",
   "execution_count": 280,
   "metadata": {},
   "outputs": [
    {
     "data": {
      "text/plain": [
       "1.203430240576565e-06"
      ]
     },
     "execution_count": 280,
     "metadata": {},
     "output_type": "execute_result"
    }
   ],
   "source": [
    "alpha =stats.norm.cdf(-4.715864951351156)\n",
    "alpha"
   ]
  }
 ],
 "metadata": {
  "kernelspec": {
   "display_name": "Python 3",
   "language": "python",
   "name": "python3"
  },
  "language_info": {
   "codemirror_mode": {
    "name": "ipython",
    "version": 3
   },
   "file_extension": ".py",
   "mimetype": "text/x-python",
   "name": "python",
   "nbconvert_exporter": "python",
   "pygments_lexer": "ipython3",
   "version": "3.8.3"
  }
 },
 "nbformat": 4,
 "nbformat_minor": 2
}
