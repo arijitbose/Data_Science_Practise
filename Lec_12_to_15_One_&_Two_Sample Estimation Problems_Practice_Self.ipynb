{
 "cells": [
  {
   "cell_type": "code",
   "execution_count": 1,
   "metadata": {},
   "outputs": [],
   "source": [
    "\n",
    "%matplotlib inline\n",
    "\n",
    "import numpy as np\n",
    "import pandas as pd\n",
    "import scipy.stats as stats\n",
    "import matplotlib.pyplot as plt\n",
    "import random\n",
    "import math"
   ]
  },
  {
   "cell_type": "markdown",
   "metadata": {},
   "source": [
    "Ex2 page 305\n",
    "\n"
   ]
  },
  {
   "cell_type": "code",
   "execution_count": 28,
   "metadata": {},
   "outputs": [
    {
     "data": {
      "text/plain": [
       "0.975"
      ]
     },
     "execution_count": 28,
     "metadata": {},
     "output_type": "execute_result"
    }
   ],
   "source": [
    "#n=sample size = 36\n",
    "#Population standard deviation = 0.3\n",
    "#Pont estimate of mu is xbar= 2.6\n",
    "#95% confidence Interval,95=100(1-alpha)\n",
    "confidence_Interval=95/100\n",
    "n=36\n",
    "sigmap=0.3\n",
    "xbar=2.6\n",
    "Zalphabytwo=stats.norm.ppf(q=m)\n",
    "m=1-(1-confidence_Interval)/2\n",
    "Zalphabytwo\n",
    "ans=[xbar-(-1)**(k)*Zalphabytwo*(sigmap/math.sqrt(n)) for k in range(2)]\n",
    "ans\n",
    "\n"
   ]
  },
  {
   "cell_type": "code",
   "execution_count": 19,
   "metadata": {},
   "outputs": [
    {
     "data": {
      "text/plain": [
       "[2.471208534822555, 2.728791465177445]"
      ]
     },
     "execution_count": 19,
     "metadata": {},
     "output_type": "execute_result"
    }
   ],
   "source": [
    "#n=sample size = 36\n",
    "#Population standard deviation = 0.3\n",
    "#Pont estimate of mu is xbar= 2.6\n",
    "#95% confidence Interval,95=100(1-alpha)\n",
    "confidence_Interval=99/100\n",
    "n=36\n",
    "sigmap=0.3\n",
    "xbar=2.6\n",
    "Zalphabytwo=stats.norm.ppf(q=m)\n",
    "m=1-(1-confidence_Interval)/2\n",
    "Zalphabytwo\n",
    "ans=[xbar-(-1)**(k)*Zalphabytwo*(sigmap/math.sqrt(n)) for k in range(2)]\n",
    "ans"
   ]
  },
  {
   "cell_type": "code",
   "execution_count": 34,
   "metadata": {},
   "outputs": [
    {
     "data": {
      "text/plain": [
       "[9.743495488036165, 10.256504511963835]"
      ]
     },
     "execution_count": 34,
     "metadata": {},
     "output_type": "execute_result"
    }
   ],
   "source": [
    "#Ex5 Pg 309 t distrbution\n",
    "confidence_Interval=95/100\n",
    "from scipy.stats import t\n",
    "import statistics\n",
    "x=[9.8,10.2,10.4,9.8,10,10.2,9.6]\n",
    "mean=np.mean(x)\n",
    "s=statistics.stdev(x)\n",
    "# calculate the critical value\n",
    "alpha = 0.05\n",
    "T = t.ppf(m, 9)\n",
    "m=1-(1-confidence_Interval)/2\n",
    "ans=[mean-(-1)**(k)*T*(sigmap/math.sqrt(len(x))) for k in range(2)]\n",
    "ans                       \n"
   ]
  }
 ],
 "metadata": {
  "kernelspec": {
   "display_name": "Python 3",
   "language": "python",
   "name": "python3"
  },
  "language_info": {
   "codemirror_mode": {
    "name": "ipython",
    "version": 3
   },
   "file_extension": ".py",
   "mimetype": "text/x-python",
   "name": "python",
   "nbconvert_exporter": "python",
   "pygments_lexer": "ipython3",
   "version": "3.8.3"
  }
 },
 "nbformat": 4,
 "nbformat_minor": 2
}
